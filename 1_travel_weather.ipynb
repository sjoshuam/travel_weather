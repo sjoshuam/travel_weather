{
 "cells": [
  {
   "cell_type": "raw",
   "id": "78d5d60d-1af9-4e44-87cb-3a6b3dd18e18",
   "metadata": {},
   "source": [
    "0. Import Data – Import all needed data.  This is a large task.\n",
    "1. Refine Data – Clean and reshape data into an enriched form.\n",
    "2. Build Model – Trained a model to predict the weather at destinations.\n",
    "3. Model Routes – Predict weather at destinations along the route.\n",
    "4. Render Visualization – Visualize weather temperateness for each route.\n",
    "5. Test Code - Tests for all features."
   ]
  },
  {
   "cell_type": "markdown",
   "id": "778be4aa-e671-4279-a6cc-24ec56d88ced",
   "metadata": {},
   "source": [
    "# Libraries and Settings"
   ]
  },
  {
   "cell_type": "markdown",
   "id": "9eb2a9ee-47c8-4e1f-86ed-e90e8c79e8dc",
   "metadata": {},
   "source": [
    "#### Libraries"
   ]
  },
  {
   "cell_type": "code",
   "execution_count": 1,
   "id": "96bfe8c1-b00a-45c5-b622-242563a6a24b",
   "metadata": {},
   "outputs": [],
   "source": [
    "##########==========##########==========##########==========##########==========\n",
    "\n",
    "## general purpose libraries\n",
    "import numpy             as np\n",
    "import pandas            as pd\n",
    "import matplotlib.pyplot as plt\n",
    "import urllib.request    as url\n",
    "\n",
    "from datetime          import datetime, timedelta\n",
    "from bs4               import BeautifulSoup\n",
    "from os                import listdir, mkdir\n",
    "from os.path           import isdir, isfile\n",
    "from geopy.distance    import distance\n",
    "from docx              import Document\n",
    "from textwrap          import TextWrapper\n",
    "from matplotlib.dates  import DateFormatter\n",
    "from matplotlib.colors import hsv_to_rgb, to_hex\n",
    "import textwrap\n",
    "\n",
    "\n",
    "## time stamp functions\n",
    "set_timing = dict()\n",
    "def time_check(id_str = 'ZZ'):\n",
    "    raw_time = datetime.now()\n",
    "    current_time = [raw_time.hour, raw_time.minute, round(raw_time.second)]\n",
    "    current_time = [str(i).zfill(2) for i in current_time]\n",
    "    current_time = ':'.join(current_time)\n",
    "    current_time = 'Time Check ' + id_str.ljust(4) + ' = ' + current_time\n",
    "    set_timing[id_str] = current_time\n",
    "    if id_str == 'ZZ':\n",
    "        for i in set_timing:\n",
    "            print(set_timing[i])\n",
    "\n",
    "time_check('AA')"
   ]
  },
  {
   "cell_type": "markdown",
   "id": "b536436a-2dd9-435b-9561-037d68df7480",
   "metadata": {},
   "source": [
    "#### Settings"
   ]
  },
  {
   "cell_type": "code",
   "execution_count": 2,
   "id": "2ab7de13-3263-431a-8de4-6c12ce36c5b6",
   "metadata": {},
   "outputs": [],
   "source": [
    "## url source of the data\n",
    "set_url = \"https://www.ncei.noaa.gov/data/local-climatological-data/access/{0}/\"\n",
    "set_year = range(2012, 2022)\n",
    "set_prefix = ['69', '70', '72', '74', '91', '99']#.append('71') # 71 = Canada\n",
    "\n",
    "## cache settings\n",
    "set_cache = {'hard_reset':     False,\n",
    "             'station_roster': True,  # wired\n",
    "             'collection':     True,  # wired\n",
    "             'compilation':    True, # wired\n",
    "             'modeling':       False}\n",
    "\n",
    "## defines dtype for the columns in the raw weather data files\n",
    "set_col_list = {'DATE':str, 'LATITUDE':float,\n",
    "    'LONGITUDE':float, #'ELEVATION':float,\n",
    "    \"HourlyDryBulbTemperature\":float,\n",
    "    \"HourlyPrecipitation\":float}\n",
    "\n",
    "## set modeling and display parameters\n",
    "set_param = {'home_city': 'Washington DC'}\n",
    "\n",
    "set_color = [1/12, 4/12, 7/12, 10/12]\n",
    "set_color = [hsv_to_rgb((i, 0.7, 0.7)) for i in set_color]\n",
    "set_color = [\n",
    "    (7/12, 0.7, 0.7), (1/12, 0.5, 0.9), (1/12, 0.7, 0.7), (7/12, 0.5, 0.9)]\n",
    "set_color = [to_hex(hsv_to_rgb(i)) for i in set_color]\n",
    "highlight_color = to_hex(hsv_to_rgb((7/12, 0.1, 0.9)))\n",
    "set_font = {'small': 8, 'medium': 10, 'large': 12}"
   ]
  },
  {
   "cell_type": "markdown",
   "id": "d630bfdf-3734-4605-87d0-0e5671ac35d3",
   "metadata": {},
   "source": [
    "#### set up file system (if needed)"
   ]
  },
  {
   "cell_type": "code",
   "execution_count": 3,
   "id": "c478cc19-470a-4b9e-8f12-19da7a63fd15",
   "metadata": {},
   "outputs": [],
   "source": [
    "## make directories that script expects\n",
    "def make_directories():\n",
    "    all_dirs = ['A_Input', 'B_Process', 'C_Output']\n",
    "    all_dirs = all_dirs + ['B_Process/downloads']\n",
    "    for i in all_dirs:\n",
    "        if not isdir(i): mkdir(i)\n",
    "        \n",
    "make_directories()"
   ]
  },
  {
   "cell_type": "markdown",
   "id": "1836ea5b-e330-4de0-bb0c-a7dd64d6a097",
   "metadata": {},
   "source": [
    "# Import Data"
   ]
  },
  {
   "cell_type": "markdown",
   "id": "fcf07b37-777b-4ae9-b591-d72056be7f19",
   "metadata": {},
   "source": [
    "#### retrieve city roster file and text explanation files"
   ]
  },
  {
   "cell_type": "code",
   "execution_count": 4,
   "id": "92f2f34b-bca8-4a2d-8f32-e8e934ae9c8a",
   "metadata": {},
   "outputs": [],
   "source": [
    "## read/format project explanation docx\n",
    "def read_explainer(address = 'A_Input/explanation.docx', txt_len = 50):\n",
    "    \n",
    "    ## read in file\n",
    "    doc = Document(address).paragraphs\n",
    "    doc = [i.text for i in doc]\n",
    "    doc = ' '.join(doc)\n",
    "    \n",
    "    ## wrap text\n",
    "    tw = TextWrapper(width = txt_len, \n",
    "                     replace_whitespace = False, fix_sentence_endings = True,\n",
    "                     break_long_words = False, drop_whitespace = False)\n",
    "    doc = tw.fill(doc)\n",
    "    doc = doc.format('\\n\\n')\n",
    "    return doc\n",
    "    \n",
    "## execute functions\n",
    "city_roster = pd.read_excel('A_Input/city_list.xlsx',\n",
    "    usecols = {'City': str, 'Route': str, 'lon': float, 'lat': float})\n",
    "## project_explainer = read_explainer()"
   ]
  },
  {
   "cell_type": "markdown",
   "id": "108940fa-42b4-46cf-b7e6-8b317617cf52",
   "metadata": {},
   "source": [
    "#### retrieve links page for first year"
   ]
  },
  {
   "cell_type": "code",
   "execution_count": 5,
   "id": "490866ba-715d-4ded-887d-756871df8d99",
   "metadata": {},
   "outputs": [],
   "source": [
    "def make_data_roster(the_year, the_url = set_url, valid_prefix = set_prefix):\n",
    "  \n",
    "    ## retrive raw web page\n",
    "    the_url = the_url.format(the_year)\n",
    "    with url.urlopen(the_url) as conn:\n",
    "        all_files = conn.read()\n",
    "        conn.close()\n",
    "        \n",
    "    ## extract links to csv files\n",
    "    all_files = BeautifulSoup(all_files)\n",
    "    all_files = all_files.find_all('a')\n",
    "    all_files = [i.string for i in all_files if i.string.find('.csv') != -1]\n",
    "        \n",
    "    ## package as pandas files; limit to valid prefix\n",
    "    all_files = pd.DataFrame({'prefix':0, 'file':all_files,\n",
    "        'lon': np.nan, 'lat': np.nan, 'dist': np.nan, 'city': 'Unknown'})\n",
    "    all_files['prefix'] = [i[0:2] for i in all_files['file']]\n",
    "    all_files = all_files[all_files.prefix.isin(valid_prefix)]\n",
    "    all_files = all_files.reset_index()\n",
    "\n",
    "    del all_files['index']\n",
    "    \n",
    "    return all_files \n",
    "\n",
    "## execute code\n",
    "data_roster = make_data_roster(set_year[-1])"
   ]
  },
  {
   "cell_type": "markdown",
   "id": "089d7862-e61e-48a3-812c-5aef172d8dbf",
   "metadata": {},
   "source": [
    "#### determine which stations are near route cities"
   ]
  },
  {
   "cell_type": "code",
   "execution_count": 6,
   "id": "8d0b283f-24fe-49ef-b186-ba4fb739fe09",
   "metadata": {},
   "outputs": [
    {
     "name": "stdout",
     "output_type": "stream",
     "text": [
      "Cache or make: Retrieving cache\n"
     ]
    }
   ],
   "source": [
    "def read_station_data(x, ucl = set_col_list):\n",
    "    the_csv = pd.read_csv(x, usecols = ucl, parse_dates = ['DATE'], dtype = str)\n",
    "    for j in ucl.keys():\n",
    "        if ucl[j] == float:\n",
    "            the_csv[j] = pd.to_numeric(the_csv[j], errors = 'coerce')\n",
    "    the_csv.LATITUDE = the_csv.LATITUDE.fillna(0)\n",
    "    the_csv.LONGITUDE = the_csv.LONGITUDE.fillna(0)\n",
    "    return the_csv\n",
    "\n",
    "def filter_to_proximate_data(\n",
    "    dat_rost = data_roster, the_url = set_url, city = city_roster):\n",
    "\n",
    "    print('Evaluating:', end = ' ')\n",
    "    for i in dat_rost.index:\n",
    "        ## print(dat_rost.loc[i, 'file'], end=', ')\n",
    "        \n",
    "        ## download file and coerce numeric columns to numeric\n",
    "        full_url = set_url.format(set_year[-1]) + dat_rost.loc[i, 'file']\n",
    "        the_csv = read_station_data(full_url)\n",
    "\n",
    "        ## find distance to closest rostered metro area\n",
    "        min_dist = 999999\n",
    "        prox_city = None\n",
    "        for j in city.index:\n",
    "            dist_j = distance(\n",
    "                tuple(the_csv.loc[0, ['LATITUDE', 'LONGITUDE']]),\n",
    "                tuple(city.loc[j, ['lat', 'lon']])).miles\n",
    "            if dist_j < min_dist:\n",
    "                min_dist = dist_j\n",
    "                prox_city = city.loc[j, 'City']\n",
    "        dat_rost.loc[i, 'dist'] = np.round(min_dist)\n",
    "        dat_rost.loc[i, 'city'] = prox_city\n",
    "        \n",
    "    ## save roster file to disk\n",
    "    dat_rost.to_csv('B_Process/station_roster.csv')\n",
    "    return dat_rost\n",
    "\n",
    "def cache_or_make_csv(address, cache_bool, function):\n",
    "    if not cache_bool or not isfile(address):\n",
    "        print('Cache or make: Making file')\n",
    "        x = function()\n",
    "    else:\n",
    "        print('Cache or make: Retrieving cache')\n",
    "        x = pd.read_csv(address)\n",
    "    return x\n",
    "\n",
    "## execution functions\n",
    "station_roster = cache_or_make_csv(\n",
    "    address = 'B_Process/station_roster.csv',\n",
    "    cache_bool = set_cache['station_roster'],\n",
    "    function = filter_to_proximate_data\n",
    ")"
   ]
  },
  {
   "cell_type": "markdown",
   "id": "c2922e14-8c66-455f-8ba3-ae2aa89c15e4",
   "metadata": {},
   "source": [
    "#### retrieve data from subsequent years for proximate stations"
   ]
  },
  {
   "cell_type": "code",
   "execution_count": 7,
   "id": "b2629af6-0762-432a-8b66-4c2f57e4722b",
   "metadata": {},
   "outputs": [
    {
     "name": "stdout",
     "output_type": "stream",
     "text": [
      "TODO: Evaluate whether to build an override that forces new download\n"
     ]
    }
   ],
   "source": [
    "def retrieve_station_data(\n",
    "    roster = station_roster, url = set_url, year = set_year, ucl = set_col_list):\n",
    "    \n",
    "    ## download all relavent data files\n",
    "    for i in year:\n",
    "        if not str(i) in roster.columns: roster[str(i)] = False\n",
    "        needed_file = (roster.dist < 30) & ~roster[str(i)]\n",
    "        for j in roster.index[needed_file]:\n",
    "            ## download data file\n",
    "            try:\n",
    "                error_flag = False\n",
    "                x = read_station_data(url.format(i) + roster.loc[j, 'file'])\n",
    "                if i == year[0]:\n",
    "                    roster.loc[j, 'lon'] = x.loc[0, 'LONGITUDE']\n",
    "                    roster.loc[j, 'lat'] = x.loc[0, 'LATITUDE']\n",
    "                x.to_csv(\n",
    "                    'B_Process/downloads/' + str(i) + '_' +\n",
    "                    roster.loc[j, 'file'] + '.gz')\n",
    "            except:\n",
    "                error_flag = True\n",
    "            \n",
    "            ## update roster\n",
    "            if error_flag: roster.loc[j, str(i)] = False\n",
    "            else: roster.loc[j, str(i)] = True\n",
    "            roster.to_csv('B_Process/station_roster.csv')\n",
    "\n",
    "## execution functions\n",
    "if not set_cache['collection']: retrieve_station_data()\n",
    "print('TODO: Evaluate whether to build an override that forces new download')"
   ]
  },
  {
   "cell_type": "markdown",
   "id": "e74bd876-4fc2-45d1-a41d-6e23cb75fb63",
   "metadata": {},
   "source": [
    "#### record completion time stamp"
   ]
  },
  {
   "cell_type": "code",
   "execution_count": 8,
   "id": "ec88b623-7352-45ed-addd-3632dac6f8a9",
   "metadata": {},
   "outputs": [],
   "source": [
    "time_check('ID')"
   ]
  },
  {
   "cell_type": "markdown",
   "id": "ee54b404-eaa6-4743-8181-caced638143c",
   "metadata": {},
   "source": [
    "# Refine Data"
   ]
  },
  {
   "cell_type": "markdown",
   "id": "3fba7125-6a8f-45f8-979f-a4cc05a75443",
   "metadata": {},
   "source": [
    "#### Refine and combine files"
   ]
  },
  {
   "cell_type": "code",
   "execution_count": 9,
   "id": "f953b7ff-3b44-4ad2-83ea-94cb7fa6e6c1",
   "metadata": {},
   "outputs": [
    {
     "name": "stdout",
     "output_type": "stream",
     "text": [
      "Cache or make: Retrieving cache\n"
     ]
    }
   ],
   "source": [
    "def compile_weather_data(address = 'B_Process/downloads', ucl = set_col_list):\n",
    "    \n",
    "    ## make list of all available data files\n",
    "    file_list = listdir(address)\n",
    "    file_list = filter(lambda x: x[-7::] == '.csv.gz', file_list)\n",
    "    \n",
    "    ## read in the data\n",
    "    weather_data = []\n",
    "    for i in file_list:\n",
    "        \n",
    "        ## read in file\n",
    "        x = read_station_data('B_Process/downloads/' + i)\n",
    "        x['source'] = i\n",
    "        \n",
    "        ## unpack date information\n",
    "        x['hour'] = x.DATE.dt.hour\n",
    "        x['day'] = x.DATE.dt.dayofyear\n",
    "        x = x.drop('DATE', axis = 1)\n",
    "        x = x.loc[x.day != 366, ]\n",
    "        \n",
    "        ## score weather\n",
    "        for i in ['HourlyPrecipitation', 'HourlyDryBulbTemperature']:\n",
    "            x[i] = x[i].fillna(0)\n",
    "        x['score'] = (x['HourlyDryBulbTemperature'] <= 75) &\\\n",
    "            (x['HourlyDryBulbTemperature'] >= 55) &\\\n",
    "            (x['HourlyPrecipitation'] <= 0.2)\n",
    "        x['score'] = x['score'].astype(int)\n",
    "        x = x.drop(['HourlyDryBulbTemperature', 'HourlyPrecipitation'], axis = 1)\n",
    "        \n",
    "        ## add refined file to data list\n",
    "        weather_data.append(x)\n",
    "        \n",
    "    ## compile as dataframe and save to disk\n",
    "    weather_data = pd.concat(weather_data, axis = 0)\n",
    "    weather_data.to_csv('B_Process/weather_data.csv.gz')\n",
    "    \n",
    "    return weather_data\n",
    "\n",
    "## execute function\n",
    "weather_data = cache_or_make_csv(\n",
    "    address = 'B_Process/weather_data.csv.gz',\n",
    "    cache_bool = set_cache['compilation'],\n",
    "    function = compile_weather_data\n",
    "    )"
   ]
  },
  {
   "cell_type": "code",
   "execution_count": 10,
   "id": "b858194d-9ad8-4823-b5cf-05b8ebb7c969",
   "metadata": {},
   "outputs": [],
   "source": [
    "time_check('RD')"
   ]
  },
  {
   "cell_type": "markdown",
   "id": "0366c932-ce0d-44da-aa7f-8cda8c66c8fb",
   "metadata": {},
   "source": [
    "# Model Routes"
   ]
  },
  {
   "cell_type": "markdown",
   "id": "79616312-23ba-4db0-809f-45d9974779d3",
   "metadata": {},
   "source": [
    "#### summarize weather score for each city and then for each route"
   ]
  },
  {
   "cell_type": "code",
   "execution_count": 11,
   "id": "fda8671e-003c-4bcd-9826-efe798ab4bb6",
   "metadata": {},
   "outputs": [],
   "source": [
    "## score average temperateness of weather for each city\n",
    "def summarize_by_city(wd = weather_data, sr = station_roster):\n",
    "    \n",
    "    ## assign stations to closest metropolitan area\n",
    "    wd['index'] = [i[5:-3] for i in wd.source]\n",
    "    wd = wd.set_index('index')\n",
    "    sr = sr.set_index('file')\n",
    "    wd = wd.join(sr[['city']])\n",
    "    \n",
    "    ## calculate average weather scores\n",
    "    wd = wd[['city', 'day', 'hour', 'score']]\n",
    "    wd = wd.groupby(['city', 'day', 'hour']).mean().reset_index()\n",
    "    wd['score'] = wd['score'].round(6)\n",
    "    \n",
    "    wd.to_csv('B_Process/city_score.csv')\n",
    "    return wd\n",
    "\n",
    "## calculate average temperateness score across cities in each route\n",
    "def summarize_by_route(cs, cr = city_roster):\n",
    "    \n",
    "    ## merge route assignments\n",
    "    cs = cs.set_index('city')\n",
    "    cr = cr.set_index('City')\n",
    "    cs = cs.join(cr[['Route']])\n",
    "    \n",
    "    ## average scores by route\n",
    "    cs = cs.groupby(['Route', 'day', 'hour']).mean().reset_index()\n",
    "    cs['score'] = cs['score'].round(6)\n",
    "    cs.to_csv('B_Process/route_score.csv')\n",
    "    return cs\n",
    "\n",
    "## add dc to route scores\n",
    "def add_home_city(rs, cs, hc):\n",
    "    hc = cs.loc[cs.city == hc, ]\n",
    "    hc.columns = rs.columns\n",
    "    rs = pd.concat([rs, hc], axis = 0)\n",
    "    return rs\n",
    "\n",
    "## execute code\n",
    "city_score  = summarize_by_city()\n",
    "route_score = summarize_by_route(cs = city_score)\n",
    "route_score = add_home_city(route_score, city_score, set_param['home_city'])"
   ]
  },
  {
   "cell_type": "markdown",
   "id": "669ec06b-626b-43fc-a14f-e126809dc11a",
   "metadata": {
    "tags": []
   },
   "source": [
    "#### calculate daily summary scores (temperate hours and best time per day)"
   ]
  },
  {
   "cell_type": "code",
   "execution_count": 12,
   "id": "aebad49e-1668-43e0-a0a7-33f508c5cb3e",
   "metadata": {
    "tags": []
   },
   "outputs": [],
   "source": [
    "## sum hours of good weather per day\n",
    "def sum_temperate_by_day(rs = route_score):\n",
    "    \n",
    "    ## sum number of temperate hours by day\n",
    "    rs = rs.loc[(rs.hour > 6) & (rs.hour < 20), ]\n",
    "    hour_sum = rs.drop('hour', axis = 1).groupby(['Route', 'day']).sum()\n",
    "    hour_sum = hour_sum.round().astype(int).reset_index()\n",
    "    \n",
    "    return hour_sum\n",
    "\n",
    "## calculate best travel months\n",
    "def median_temperate_by_month(ds):\n",
    "    \n",
    "    ## convert day of the year into month\n",
    "    ds['month'] = datetime.fromisoformat('2000-01-01')\n",
    "    for i in ds.index:\n",
    "        ds.loc[i, 'month'] = ds.loc[i, 'month'] +\\\n",
    "            timedelta(days = int(ds.loc[i, 'day']))\n",
    "        ds.loc[i, 'month'] = ds.loc[i, 'month'].month\n",
    "        \n",
    "    ## sum hours by month and reshape\n",
    "    ds = ds.groupby(['Route','month']).median().drop('day', axis = 1)\n",
    "    ds = ds.reset_index().pivot(\n",
    "        index = 'Route', columns = 'month', values = 'score').astype(int)\n",
    "    \n",
    "    ## categorize routes on a summer to winter scale\n",
    "    route_weather = np.round(np.array(ds) / 12, 1)\n",
    "    winter_score = np.ones(route_weather.shape) * np.abs(np.arange(1, 13) - 7)\n",
    "    winter_score = winter_score + 1\n",
    "    route_class = (route_weather * winter_score).sum(axis = 1)\n",
    "    route_class = route_class / route_weather.sum(axis = 1)\n",
    "    ds['weather_class'] = np.round(route_class, 1)\n",
    "    ds = ds.sort_values('weather_class')\n",
    "    ds['weather_class'] = np.arange(0, ds.shape[0]) / (ds.shape[0] / 4)\n",
    "    ds['weather_class'] = ds['weather_class'].astype(int)\n",
    "    \n",
    "    return ds\n",
    "\n",
    "## execute code\n",
    "day_score = sum_temperate_by_day()\n",
    "month_score = median_temperate_by_month(day_score.copy())"
   ]
  },
  {
   "cell_type": "code",
   "execution_count": 13,
   "id": "2887dbc7-fa59-4dc0-9f2e-4a58e5119c66",
   "metadata": {},
   "outputs": [],
   "source": [
    "#time_check('MR')"
   ]
  },
  {
   "cell_type": "markdown",
   "id": "05b220a9-e4c8-4498-8219-7855ba983845",
   "metadata": {},
   "source": [
    "# Render Visualization"
   ]
  },
  {
   "cell_type": "markdown",
   "id": "823dc61e-d5ed-43ad-9bf2-78be57e0a45a",
   "metadata": {},
   "source": [
    "#### unpack data into suitable format for visualization"
   ]
  },
  {
   "cell_type": "code",
   "execution_count": 14,
   "id": "699223da-1815-43b1-b659-18695f55a746",
   "metadata": {},
   "outputs": [],
   "source": [
    "def wrap_around_rolling(x, w = 30):\n",
    "    y = pd.concat([x[len(x) - w + 1::], x]).rolling(w, center = True)\n",
    "    return y.mean().dropna()\n",
    "\n",
    "def unpack_data(ds = day_score):\n",
    "    \n",
    "    ## unpack routes to separate list objects\n",
    "    unpacked = dict()\n",
    "    for i in set(ds.Route):\n",
    "        unpacked_iter = ds.loc[ds.Route == i, :].copy()\n",
    "        \n",
    "        ## calculate 30 moving average of scores for visualization purposes\n",
    "        unpacked_iter['mov_av'] = wrap_around_rolling(unpacked_iter.score)\n",
    "        \n",
    "        ## calculate dates and adjust by 15 days (so date is the center of M.A.)\n",
    "        f = lambda x: datetime.fromisoformat('2001-01-01') + timedelta(days = x)\n",
    "        unpacked_iter['date'] = unpacked_iter['day'].apply(f)\n",
    "        \n",
    "        ## append route data to object\n",
    "        unpacked[i] = unpacked_iter.sort_values('date')\n",
    "    \n",
    "    return unpacked\n",
    "\n",
    "visual_data = unpack_data()"
   ]
  },
  {
   "cell_type": "markdown",
   "id": "508d734d-741a-4a0d-9714-20a850903f23",
   "metadata": {},
   "source": [
    "#### Set up plot infrastructure"
   ]
  },
  {
   "cell_type": "code",
   "execution_count": 15,
   "id": "80be7749-aa60-44a0-bff3-8d46a59134c7",
   "metadata": {},
   "outputs": [
    {
     "data": {
      "image/png": "[encoded data removed]",
      "text/plain": [
       "<Figure size 648x432 with 5 Axes>"
      ]
     },
     "metadata": {},
     "output_type": "display_data"
    }
   ],
   "source": [
    "def make_layout():\n",
    "    \n",
    "    ## set font\n",
    "    plt.rcParams['font.sans-serif'] = ['Quicksand']\n",
    "    \n",
    "    ## make figure\n",
    "    dash_figure = plt.figure(figsize = (9, 6))\n",
    "    dash_grid = dash_figure.add_gridspec(2, 3, figure = dash_figure,\n",
    "        hspace = 0, wspace = 0,\n",
    "        bottom = 0.07, top = 1 - 0.05,\n",
    "        left = 0.05 * (6/9),  right = 1 - 0.05 * (6/9)\n",
    "        )\n",
    "    dash_figure.set_facecolor('white')\n",
    "    \n",
    "    ## make axes\n",
    "    dash_axis = dict()\n",
    "    dash_axis['2']   = dash_figure.add_subplot(dash_grid[1, 0])\n",
    "    dash_axis['1']   = dash_figure.add_subplot(dash_grid[1, 1])\n",
    "    dash_axis['0']   = dash_figure.add_subplot(dash_grid[1, 2])\n",
    "    dash_axis['mat'] = dash_figure.add_subplot(dash_grid[0, 1:3])\n",
    "    dash_axis['3']   = dash_figure.add_subplot(dash_grid[0, 0])\n",
    "    \n",
    "    ## all figures\n",
    "    for i in dash_axis.keys():\n",
    "        dash_axis[i].set_facecolor('white')\n",
    "        dash_axis[i].tick_params(left = False, bottom = False,\n",
    "            labelleft = False, labelbottom = False,\n",
    "            top = False, labeltop = False,\n",
    "            right = False, labelright = False\n",
    "                                )\n",
    "        \n",
    "    ## set x axis\n",
    "    for i in ['0', '1', '2']:\n",
    "        dash_axis[i].tick_params(labelbottom = True, bottom = True)\n",
    "        \n",
    "    ## set y axis\n",
    "    for i in ['2', '3']:\n",
    "        dash_axis[i].tick_params(labelleft = True, left = True)\n",
    "        \n",
    "    ## weather line plots\n",
    "    date_format = DateFormatter('%b')\n",
    "    for i in range(0, 4):\n",
    "        dash_axis[str(i)].set_xlim(datetime.fromisoformat('2001-01-01'),\n",
    "            datetime.fromisoformat('2001-12-31'))\n",
    "        dash_axis[str(i)].set_ylim(0, 13)\n",
    "        dash_axis[str(i)].xaxis.set_major_formatter(date_format)\n",
    "        dash_axis[str(i)].tick_params(axis='x', labelrotation = 90)\n",
    "\n",
    "    return dash_figure, dash_axis\n",
    "    \n",
    "##\n",
    "dash_figure, dash_axis = make_layout()"
   ]
  },
  {
   "cell_type": "markdown",
   "id": "99569707-6734-459a-bb10-5eedc18f5af6",
   "metadata": {},
   "source": [
    "#### draw route score panels"
   ]
  },
  {
   "cell_type": "code",
   "execution_count": 16,
   "id": "eb803816-1db1-48f3-bdd1-c99ce5916396",
   "metadata": {},
   "outputs": [],
   "source": [
    "def render_weather_lines(ms = month_score, vd = visual_data):\n",
    "\n",
    "    color_iter = 0\n",
    "    for i in range(0, 4):\n",
    "        \n",
    "        ## draw season guides\n",
    "        x = ['2001-03-01', '2001-06-01', '2001-09-01', '2001-12-01']\n",
    "        x = [datetime.fromisoformat(i) for i in x]\n",
    "        dash_axis[str(i)].vlines(x = x, ymin = 0, ymax = 13, color = '#F0F0F0')\n",
    "        dash_axis[str(i)].hlines(y = [6], \n",
    "            color = highlight_color,\n",
    "            xmin = datetime.fromisoformat('2001-01-01'),\n",
    "            xmax = datetime.fromisoformat('2001-12-31')\n",
    "            )\n",
    "        \n",
    "        ## generate short labels\n",
    "        short_labels = dict()\n",
    "        for k in set(ms.index):\n",
    "            if len(k) > 8:\n",
    "                short_labels[k] = k[0:8].rstrip() + '.'\n",
    "            else:\n",
    "                short_labels[k] = k\n",
    "        \n",
    "        ## draw weather score lines\n",
    "        for j in ms.index[ms.weather_class == i]:\n",
    "            dash_axis[str(i)].plot(vd[j].date, vd[j].mov_av,\n",
    "                label = short_labels[j], color = set_color[color_iter])\n",
    "            color_iter = (color_iter + 1) % len(set_color)\n",
    "            \n",
    "            dash_axis[str(i)].legend(loc = 'upper right', ncol = 1,\n",
    "                labelspacing = 0, borderpad = 0.1, borderaxespad = 0.2,\n",
    "                fontsize = set_font['small'], edgecolor = '#F0F0F080')\n",
    "\n",
    "render_weather_lines()"
   ]
  },
  {
   "cell_type": "markdown",
   "id": "0d768839-cdd6-4f58-98ea-cefb6b580aba",
   "metadata": {},
   "source": [
    "#### draw matrix panel"
   ]
  },
  {
   "cell_type": "code",
   "execution_count": 17,
   "id": "931f7c39-0ae7-460f-81bf-d3df680224c3",
   "metadata": {},
   "outputs": [],
   "source": [
    "def render_hours_table(ms):\n",
    "    \n",
    "    ## convert table to matplotlib's table format\n",
    "    ms = ms.drop(['weather_class'], axis = 1)\n",
    "    ms_list = [list(ms.loc[i, ]) for i in ms.index] \n",
    "    \n",
    "    ## generate cell colors\n",
    "    ms_color = ms\n",
    "    ms_color = (ms_color / 6).astype(int).replace({\n",
    "        0: to_hex(hsv_to_rgb((7/12, 0.0, 1.0))),\n",
    "        1: highlight_color,\n",
    "        2: to_hex(hsv_to_rgb((7/12, 0.4, 0.8)))\n",
    "    })\n",
    "    ms_color = [list(ms_color.loc[i, ]) for i in ms_color.index]\n",
    "    \n",
    "    ## assemble table\n",
    "    dash_axis['mat'].set_xlim(0, 6)\n",
    "    dash_axis['mat'].set_ylim(0, 3)\n",
    "    access_object = dash_axis['mat'].table(\n",
    "        cellText = ms_list,\n",
    "        cellColours = ms_color, cellLoc = 'center', \n",
    "        rowLabels = ms.index, rowLoc = 'right',\n",
    "        colLabels = ['Jan', 'Feb', 'Mar', 'Apr', 'May', 'Jun', 'Jul', 'Aug',\n",
    "                    'Sep', 'Oct', 'Nov', 'Dec'],\n",
    "        colLoc = 'center',\n",
    "        bbox = [0.21, 0.0, 1 - 0.18, 0.90]\n",
    "        )\n",
    "    for i, j in access_object.get_celld().items():\n",
    "        j.set_linewidth(0)\n",
    "    access_object.auto_set_font_size(False)\n",
    "    access_object.set_fontsize(set_font['small'])\n",
    "    \n",
    "    ## add table\n",
    "    dash_axis['mat'].text(\n",
    "        x = 6 - 0.02, y = 3 - 0.02,\n",
    "        s = 'Average Daily Hours of Temperate Weather on Each Travel Route',\n",
    "        horizontalalignment = 'right', verticalalignment = 'top',\n",
    "        fontsize = set_font['large']\n",
    "    )\n",
    "\n",
    "render_hours_table(month_score)"
   ]
  },
  {
   "cell_type": "markdown",
   "id": "27d806ea-2721-45c8-8550-646eb36fb2e1",
   "metadata": {},
   "source": [
    "#### draw explanation notes"
   ]
  },
  {
   "cell_type": "code",
   "execution_count": 18,
   "id": "13c4ce46-d128-4b0e-bf7f-857cf9b255f2",
   "metadata": {},
   "outputs": [],
   "source": [
    "def explain_this(panel, text):\n",
    "    text = textwrap.wrap(text, 29, break_long_words = False)\n",
    "    text = '\\n'.join(text)\n",
    "    \n",
    "    dash_axis[panel].text(\n",
    "        y = 12.7, x = datetime.fromisoformat('2001-01-10'),\n",
    "        s = text,\n",
    "        horizontalalignment = 'left', verticalalignment = 'top',\n",
    "        fontsize = set_font['medium'],\n",
    "        bbox = dict(edgecolor = \"#F0F0F080\", facecolor = '#FFFFFF80')\n",
    "    )\n",
    "    \n",
    "explain_this('3',\n",
    "    'Lines indicate average daily hours of temperate weather' +\\\n",
    "    ' (y-axis) at a given point in the year (x-axis) on a route.'\n",
    "            )\n",
    "explain_this('2',\n",
    "    'Travel these routes during the early spring or late fall.')\n",
    "explain_this('1',\n",
    "    'Travel these routes during the late spring or early fall.')\n",
    "explain_this('0',\n",
    "    'Travel these routes during the early summer or early fall.')"
   ]
  },
  {
   "cell_type": "markdown",
   "id": "5e33d0c0-8ef7-4224-8922-537706338c14",
   "metadata": {},
   "source": [
    "#### save figure to disk"
   ]
  },
  {
   "cell_type": "code",
   "execution_count": 19,
   "id": "5768f822-601c-4667-95fb-5d6042e87675",
   "metadata": {},
   "outputs": [],
   "source": [
    "dash_figure.savefig('C_Output/travel_weather.png', dpi = 250)"
   ]
  },
  {
   "cell_type": "code",
   "execution_count": 20,
   "id": "1a1f5c76-8a6a-4edb-afa2-6e6302713e6b",
   "metadata": {},
   "outputs": [],
   "source": [
    "time_check('RV')"
   ]
  },
  {
   "cell_type": "markdown",
   "id": "23023019-0f8e-4cc7-b266-ccb6fe20f7b1",
   "metadata": {},
   "source": [
    "# Test Code"
   ]
  },
  {
   "cell_type": "markdown",
   "id": "e1abcc10-feac-4f60-a46f-65d9a0836971",
   "metadata": {},
   "source": [
    "#### read in testing data"
   ]
  },
  {
   "cell_type": "code",
   "execution_count": 182,
   "id": "e448d336-1153-46aa-b37c-711bfb261efe",
   "metadata": {},
   "outputs": [],
   "source": [
    "## read outside source temperature data for accuracy comparisons\n",
    "   ## conform to a comparable format\n",
    "def read_outside_data(x = 'A_Input/test_city_monthly_temp.csv'):\n",
    "    csv_data = pd.read_csv(x)\n",
    "    dat = dict()\n",
    "    for i in set(csv_data.variable):\n",
    "        dat[i] = csv_data.loc[csv_data.variable == i].drop(columns = 'variable')\n",
    "        dat[i] = dat[i].melt(\n",
    "            id_vars = ['city', 'route'],\n",
    "            value_vars = [str(i) for i in range(1, 13)],\n",
    "            var_name = 'month', value_name = 'temp'\n",
    "            )\n",
    "        dat[i]['month'] = dat[i]['month'].astype(int)\n",
    "        dat[i] = dat[i].set_index(['city', 'route', 'month'])\n",
    "    dat = pd.concat(dat, axis = 1)\n",
    "    dat.columns = dat.columns.droplevel(level = 1)\n",
    "    dat = dat.reset_index(level = 'route').sort_values(['city', 'month'])\n",
    "    for i in ['Average high', 'Average low', 'Daily mean']:\n",
    "        dat[i] = dat[i].astype(float)\n",
    "    \n",
    "    return dat\n",
    "    \n",
    "confirm_data = read_outside_data() # (city, month) x (route, mean, high, low)"
   ]
  },
  {
   "cell_type": "code",
   "execution_count": 162,
   "id": "4cee4852-53fd-44ff-93fd-0327fad217e4",
   "metadata": {},
   "outputs": [],
   "source": [
    "## read in test weather station data for accuracy comparisons\n",
    "def get_test_station_data(\n",
    "    station = station_roster, confirm = confirm_data):\n",
    "    \n",
    "    ## lookup relevant station data file names\n",
    "    i = station.city.isin(confirm.index.get_level_values('city'))\n",
    "    station = station.loc[i].copy().dropna(subset = ['lon', 'lat'])\n",
    "    station = station.sort_values('dist').drop_duplicates(subset = 'city')\n",
    "    \n",
    "    ## append a valid year to file\n",
    "    station['year'] = 0\n",
    "    for i in set_year:\n",
    "        if str(i) in station.columns: \n",
    "            station.loc[station[str(i)], 'year'] = i\n",
    "        if station.year.min() > 0: break\n",
    "    station.year = station.year.astype(str)\n",
    "    station['file'] = 'B_Process/downloads/' + station.year +\\\n",
    "        '_' + station.file + '.gz'\n",
    "    station = station[['file', 'city']].set_index('city')\n",
    "    \n",
    "    ## read relevant station data files\n",
    "    station_data = dict()\n",
    "    for i in station.index:\n",
    "        station_data[i] = read_station_data(station.loc[i, 'file'])\n",
    "        station_data[i]['city'] = i\n",
    "    station_data = pd.concat(station_data)\n",
    "    \n",
    "    ## shape data to facilitate stations\n",
    "    station_data['month'] = station_data.DATE.dt.month\n",
    "    station_data['day'] = station_data.DATE.dt.day\n",
    "    station_data = station_data.drop(['DATE', 'LATITUDE', 'LONGITUDE',\n",
    "        'HourlyPrecipitation'], axis = 1)\n",
    "    station_data = station_data.rename(\n",
    "        columns = {'HourlyDryBulbTemperature': 'temp'})\n",
    "    station_data = station_data.reset_index(drop = True).dropna()\n",
    "    \n",
    "    ## return results\n",
    "    return station_data\n",
    "\n",
    "test_station_data = get_test_station_data() # (temp, city, month, day)"
   ]
  },
  {
   "cell_type": "markdown",
   "id": "7fc33626-ab1d-4903-a87d-e441b84d0da6",
   "metadata": {},
   "source": [
    "#### Test 1: Are all routes present in the final score table?"
   ]
  },
  {
   "cell_type": "code",
   "execution_count": 193,
   "id": "c44db1b5-f5d7-4e9c-8bf4-153e5d325444",
   "metadata": {},
   "outputs": [
    {
     "name": "stdout",
     "output_type": "stream",
     "text": [
      "WARNING: Data collection does not extend to Canada\n",
      "Test #1: Pass\n"
     ]
    }
   ],
   "source": [
    "def test_all_routes_present(cr = city_roster, ms = month_score):\n",
    "    \n",
    "    ## extract route lists from a starting data object and a final data object\n",
    "    cr = set(cr.Route)\n",
    "    ms = set(ms.index)\n",
    "    ms.discard(set_param['home_city'])\n",
    "    \n",
    "    ##  waive eastern canada through with a warning\n",
    "    if ('East Canada' in cr) and ('East Canada' not in ms):\n",
    "        cr.discard('East Canada')\n",
    "        print('WARNING: Data collection does not extend to Canada')\n",
    "    \n",
    "    assert cr == ms, 'Test #1 FAIL: city_list routes do not match' +\\\n",
    "                        'month_score\\'s routes'\n",
    "    print('Test #1: Pass')\n",
    "\n",
    "test_all_routes_present()"
   ]
  },
  {
   "cell_type": "markdown",
   "id": "a518a8df-e8f7-49c9-b69b-9203553f0787",
   "metadata": {},
   "source": [
    "#### Test 2: Can station data recreate Wikipedia climate data for test cities?"
   ]
  },
  {
   "cell_type": "code",
   "execution_count": 196,
   "id": "284e08e5-273b-4736-ba9a-bdab7fb6b0ea",
   "metadata": {},
   "outputs": [
    {
     "name": "stdout",
     "output_type": "stream",
     "text": [
      "Test #2: pass\n"
     ]
    }
   ],
   "source": [
    "def outside_source_test(station_data = test_station_data,\n",
    "        confirm = confirm_data):\n",
    "    \n",
    "    ## drop unneeded columns from confirmation dataset\n",
    "    confirm = confirm.drop(columns = 'route').copy()\n",
    "    \n",
    "    ## calculate statistics\n",
    "    def average_days(x):\n",
    "        return x.reset_index().groupby(['city', 'month']).mean().temp\n",
    "\n",
    "    station_stats = {\n",
    "        'Daily mean': station_data.groupby(['city', 'month']).mean().temp,\n",
    "        'Average low': station_data.groupby(['city', 'month', 'day']).min(),\n",
    "        'Average high': station_data.groupby(['city', 'month', 'day']).max(),\n",
    "        }\n",
    "    station_stats['Average low'] = average_days(station_stats['Average low'])\n",
    "    station_stats['Average high'] = average_days(station_stats['Average high'])\n",
    "    station_stats = pd.concat(station_stats, axis = 1)\n",
    "    \n",
    "    ## quantify difference\n",
    "    assert all(station_stats.index == confirm.index), 'Indices don\\'t match'\n",
    "    accuracy = station_stats\n",
    "    for i in accuracy.columns:\n",
    "        accuracy[i] = (accuracy[i] - confirm[i]).abs()\n",
    "    accuracy = np.round(accuracy.median().max(), 1)\n",
    "    assert accuracy < 5, 'Test #2 FAIL: Median difference between station' +\\\n",
    "                            'data and outside source exceeds 5 degrees'\n",
    "    print('Test #2: pass')\n",
    "\n",
    "outside_source_test()"
   ]
  },
  {
   "cell_type": "markdown",
   "id": "a49beae3-a5c1-43c4-927d-7f0c194f0e27",
   "metadata": {},
   "source": [
    "#### Test 3: Can station data recreate monthly route scores for test routes?"
   ]
  },
  {
   "cell_type": "code",
   "execution_count": null,
   "id": "0f2c49c5-ff5e-4bcb-8387-91203329bef5",
   "metadata": {},
   "outputs": [],
   "source": []
  },
  {
   "cell_type": "code",
   "execution_count": null,
   "id": "6da46ef8-cc00-48c4-bf83-ab557d77db98",
   "metadata": {},
   "outputs": [],
   "source": []
  },
  {
   "cell_type": "code",
   "execution_count": 26,
   "id": "6c9c6ff3-02a3-4b1d-91e9-acfc85b54b8a",
   "metadata": {},
   "outputs": [],
   "source": [
    "time_check('TC')"
   ]
  },
  {
   "cell_type": "markdown",
   "id": "d3de2aab-a8a1-4dff-bd0a-bd051ca73d52",
   "metadata": {},
   "source": [
    "# Miscellaneous"
   ]
  },
  {
   "cell_type": "code",
   "execution_count": 27,
   "id": "a350ac31-ae36-4b98-9865-a387f256cf49",
   "metadata": {},
   "outputs": [
    {
     "name": "stdout",
     "output_type": "stream",
     "text": [
      "Time Check AA   = 15:22:22\n",
      "Time Check ID   = 15:22:28\n",
      "Time Check RD   = 15:22:57\n",
      "Time Check RV   = 15:23:38\n",
      "Time Check TC   = 15:23:39\n",
      "Time Check ZZ   = 15:23:39\n"
     ]
    }
   ],
   "source": [
    "## Display time statistics\n",
    "time_check('ZZ')"
   ]
  }
 ],
 "metadata": {
  "kernelspec": {
   "display_name": "Python 3 (ipykernel)",
   "language": "python",
   "name": "python3"
  },
  "language_info": {
   "codemirror_mode": {
    "name": "ipython",
    "version": 3
   },
   "file_extension": ".py",
   "mimetype": "text/x-python",
   "name": "python",
   "nbconvert_exporter": "python",
   "pygments_lexer": "ipython3",
   "version": "3.10.4"
  }
 },
 "nbformat": 4,
 "nbformat_minor": 5
}
