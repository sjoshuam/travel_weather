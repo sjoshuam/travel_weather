{
 "cells": [
  {
   "cell_type": "code",
   "execution_count": 1,
   "id": "54f664f8-58d2-4415-82d6-f2ad15f77268",
   "metadata": {},
   "outputs": [],
   "source": [
    "##########----------##########----------##########----------##########----------"
   ]
  },
  {
   "cell_type": "markdown",
   "id": "5cf05299-44af-42e4-9e1b-cf5a7be27e91",
   "metadata": {},
   "source": [
    "# Libraries, setup, and general use objects"
   ]
  },
  {
   "cell_type": "code",
   "execution_count": 2,
   "id": "6174b868-46b2-4ab1-a0d1-18881bf2dc74",
   "metadata": {},
   "outputs": [],
   "source": [
    "import urllib.request as url\n",
    "import pandas as pd\n",
    "\n",
    "from bs4 import BeautifulSoup\n",
    "from os import listdir"
   ]
  },
  {
   "cell_type": "markdown",
   "id": "f91d709e-a93a-4467-944a-6fc491586579",
   "metadata": {},
   "source": [
    "# Import Data"
   ]
  },
  {
   "cell_type": "code",
   "execution_count": 23,
   "id": "f0b86605-4ec2-4a33-ab43-5029b5c911d3",
   "metadata": {},
   "outputs": [],
   "source": [
    "def extract_links(address):\n",
    "    \n",
    "    ## retrieve raw web page\n",
    "    url_connect = url.urlopen(address)\n",
    "    all_links = url_connect.read()\n",
    "    url_connect.close()\n",
    "    \n",
    "    ## extract all links to csv files\n",
    "    all_links = BeautifulSoup(all_links)\n",
    "    all_links = all_links.find_all('a')\n",
    "    all_links = [i.string for i in all_links if i.string.find('.csv') != -1]\n",
    "    \n",
    "    ## remove url if files have already been downloaded\n",
    "    already_downloaded = listdir('B_Process/downloads')\n",
    "    valid_links = dict()\n",
    "    for i in all_links:\n",
    "        if address[-5:-1] + '_' + i in already_downloaded:\n",
    "            pass\n",
    "        else:\n",
    "            x = address[-5:-1] + '_' + i\n",
    "            y = address + i\n",
    "            valid_links.update({x:y})\n",
    "            \n",
    "    return valid_links\n",
    "\n",
    "links_extracted = extract_links(\n",
    "    \"https://www.ncei.noaa.gov/data/local-climatological-data/access/2019/\")"
   ]
  },
  {
   "cell_type": "code",
   "execution_count": 46,
   "id": "163e0c2b-1c70-4e44-a6d0-1215441eea29",
   "metadata": {},
   "outputs": [
    {
     "name": "stderr",
     "output_type": "stream",
     "text": [
      "/var/folders/xk/rmkl6dh17jl6zqhzl0ky4b_w0000gp/T/ipykernel_15541/3930771087.py:12: DtypeWarning: Columns (10) have mixed types. Specify dtype option on import or set low_memory=False.\n",
      "  the_csv = pd.read_csv(links_ext[i], usecols = list(ucl.keys()))\n"
     ]
    },
    {
     "data": {
      "text/plain": [
       "'End'"
      ]
     },
     "execution_count": 46,
     "metadata": {},
     "output_type": "execute_result"
    }
   ],
   "source": [
    "use_col_list = {'DATE':str, 'LATITUDE':float, 'LONGITUDE':float, 'ELEVATION':float,\n",
    "    \"HourlyDryBulbTemperature\":float, \"HourlyRelativeHumidity\":float, \"HourlyPrecipitation\":float}\n",
    "\n",
    "\n",
    "def download_files(links_ext = links_extracted, ucl = use_col_list):\n",
    "    test_stopper = 0  ## TEST LIMIT 1 OF 3\n",
    "    for i in links_ext.keys():\n",
    "        try:\n",
    "            the_csv = pd.read_csv(links_ext[i], usecols = list(ucl.keys()), parse_dates = ['DATE'],\n",
    "                dtype = ucl)\n",
    "        except:\n",
    "            the_csv = pd.read_csv(links_ext[i], usecols = list(ucl.keys()))\n",
    "        the_csv.to_csv('B_Process/downloads/' + i)\n",
    "        if test_stopper > 5: return \"End\"  ## TEST LIMIT 2 OF 3\n",
    "        test_stopper += 1  ## TEST LIMIT 3 OF 3\n",
    "        \n",
    "download_files()"
   ]
  },
  {
   "cell_type": "markdown",
   "id": "f529ee97-e732-4edc-9c03-18abab2615b1",
   "metadata": {},
   "source": [
    "# Refine Data"
   ]
  },
  {
   "cell_type": "code",
   "execution_count": null,
   "id": "b18c4cfa-6d4d-48ef-989e-891af2498bba",
   "metadata": {},
   "outputs": [],
   "source": []
  },
  {
   "cell_type": "markdown",
   "id": "5ad05bf5-0483-4eab-9eec-d5b4031727d2",
   "metadata": {},
   "source": [
    "# Build Model"
   ]
  },
  {
   "cell_type": "code",
   "execution_count": null,
   "id": "34ebcb80-acc9-4aa5-a1b8-2bb125f1d002",
   "metadata": {},
   "outputs": [],
   "source": []
  },
  {
   "cell_type": "markdown",
   "id": "a5ddf3c4-792a-4f0d-90a7-94d631ffb412",
   "metadata": {},
   "source": [
    "# Model Routes"
   ]
  },
  {
   "cell_type": "code",
   "execution_count": null,
   "id": "10a86b9f-385e-467e-bc11-cfe257b08e85",
   "metadata": {},
   "outputs": [],
   "source": []
  },
  {
   "cell_type": "markdown",
   "id": "e24382e0-9187-4470-8e3b-6969112a5d6e",
   "metadata": {},
   "source": [
    "# Render Dashboard"
   ]
  },
  {
   "cell_type": "code",
   "execution_count": null,
   "id": "852b11fe-85ea-416c-a344-e205fee52707",
   "metadata": {},
   "outputs": [],
   "source": []
  }
 ],
 "metadata": {
  "kernelspec": {
   "display_name": "Python 3 (ipykernel)",
   "language": "python",
   "name": "python3"
  },
  "language_info": {
   "codemirror_mode": {
    "name": "ipython",
    "version": 3
   },
   "file_extension": ".py",
   "mimetype": "text/x-python",
   "name": "python",
   "nbconvert_exporter": "python",
   "pygments_lexer": "ipython3",
   "version": "3.9.7"
  }
 },
 "nbformat": 4,
 "nbformat_minor": 5
}
